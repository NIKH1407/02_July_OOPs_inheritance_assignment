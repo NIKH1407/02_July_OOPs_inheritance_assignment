{
  "nbformat": 4,
  "nbformat_minor": 0,
  "metadata": {
    "colab": {
      "provenance": []
    },
    "kernelspec": {
      "name": "python3",
      "display_name": "Python 3"
    },
    "language_info": {
      "name": "python"
    }
  },
  "cells": [
    {
      "cell_type": "code",
      "execution_count": null,
      "metadata": {
        "id": "CivXxYlzIEF9"
      },
      "outputs": [],
      "source": [
        "# Explain what inheritance is in object-oriented programming and why it is used."
      ]
    },
    {
      "cell_type": "code",
      "source": [
        "# In short, inheritance in object-oriented programming allows classes to inherit\n",
        "# attributes and behaviors from other classes. It promotes code reusability,\n",
        "# extensibility, and polymorphism by allowing classes to inherit and build\n",
        "# upon the functionality of a parent class.\n",
        "# It facilitates modular code organization and the creation of specialized\n",
        "# classes while maintaining a common interface."
      ],
      "metadata": {
        "id": "Qv4SNO-mIhey"
      },
      "execution_count": null,
      "outputs": []
    },
    {
      "cell_type": "code",
      "source": [
        "# 2. Discuss the concept of single inheritance and multiple inheritance, highlighting their\n",
        "# differences and advantages."
      ],
      "metadata": {
        "id": "DpbjwcqpKD8m"
      },
      "execution_count": null,
      "outputs": []
    },
    {
      "cell_type": "code",
      "source": [
        "# In single inheritance, a class inherits attributes and behaviors\n",
        "# from only one base class. It forms a linear hierarchy where each derived\n",
        "# class has only one immediate parent class. This allows for a simpler and\n",
        "# more straightforward class hierarchy.\n",
        "\n",
        "# In multiple inheritance, a class can inherit attributes and behaviors\n",
        "# from multiple base classes. It allows for the combination of features\n",
        "# from different classes, resulting in a more flexible and versatile class\n",
        "# structure. However, it can lead to complexity and potential conflicts\n",
        "# when the same attribute or method is inherited from multiple base classes."
      ],
      "metadata": {
        "id": "LTjaJaiUKD6Q"
      },
      "execution_count": null,
      "outputs": []
    },
    {
      "cell_type": "code",
      "source": [
        "# 3. Explain the terms \"base class\" and \"derived class\" in the context of inheritance."
      ],
      "metadata": {
        "id": "3b8XbnBhKD4A"
      },
      "execution_count": null,
      "outputs": []
    },
    {
      "cell_type": "code",
      "source": [
        "# In inheritance, the \"base class\" refers to the class that is being\n",
        "# inherited from or serves as the parent class. It provides the common attributes\n",
        "# and behaviors that can be inherited by one or more derived classes.\n",
        "# The \"derived class\" is the class that inherits the properties and methods\n",
        "# from the base class.\n",
        "# It extends or specializes the functionality of the base class\n",
        "# by adding its own unique attributes and behaviors."
      ],
      "metadata": {
        "id": "1emIOcrFKD2E"
      },
      "execution_count": null,
      "outputs": []
    },
    {
      "cell_type": "code",
      "source": [
        "# 4. What is the significance of the \"protected\" access modifier in inheritance? How does\n",
        "# it differ from \"private\" and \"public\" modifiers?"
      ],
      "metadata": {
        "id": "h6uiZyWXKD0I"
      },
      "execution_count": null,
      "outputs": []
    },
    {
      "cell_type": "code",
      "source": [
        "# The \"protected\" access modifier in inheritance allows the members\n",
        "#  (attributes and methods) of a class to be accessible within the\n",
        "#  class itself and its derived classes. It provides a level of encapsulation,\n",
        "# allowing derived classes to access and modify the protected\n",
        "# members while restricting direct access from other external classes.\n",
        "\n",
        "# In contrast, the \"private\" access modifier restricts access to the\n",
        "# class in which the member is defined, preventing derived classes from\n",
        "# accessing or modifying the private members. On the other hand, the \"public\"\n",
        "# access modifier allows unrestricted access to the member from any class,\n",
        "# including derived classes."
      ],
      "metadata": {
        "id": "RHUBFqEvKDyP"
      },
      "execution_count": null,
      "outputs": []
    },
    {
      "cell_type": "code",
      "source": [
        "# What is the purpose of the \"super\" keyword in inheritance? Provide an example."
      ],
      "metadata": {
        "id": "zFPci0RXKDv7"
      },
      "execution_count": null,
      "outputs": []
    },
    {
      "cell_type": "code",
      "source": [
        "# The \"super\" keyword in inheritance is used to refer to the\n",
        "# parent class or access its attributes and methods.\n",
        "# It is commonly used to call the parent class's constructor\n",
        "# or to invoke overridden methods from the parent class. By using the\n",
        "# \"super\" keyword, you can extend the functionality of the parent class while\n",
        "# maintaining its original behavior.\n",
        "\n",
        "\n",
        "# Example of \"super\" keyword usage:\n",
        "\n",
        "\n",
        "class Parent:\n",
        "    def __init__(self, x):\n",
        "        self.x = x\n",
        "\n",
        "    def display(self):\n",
        "        print(\"Parent Class\")\n",
        "        print(\"x =\", self.x)\n",
        "\n",
        "class Child(Parent):\n",
        "    def __init__(self, x, y):\n",
        "        super().__init__(x)  # Calling the parent class constructor\n",
        "        self.y = y\n",
        "\n",
        "    def display(self):\n",
        "        super().display()  # Calling the parent class method\n",
        "        print(\"Child Class\")\n",
        "        print(\"y =\", self.y)\n",
        "\n",
        "child = Child(10, 20)\n",
        "child.display()"
      ],
      "metadata": {
        "colab": {
          "base_uri": "https://localhost:8080/"
        },
        "id": "yy1a_3ovKDtV",
        "outputId": "478097fa-f555-46e3-f6d8-1c76d24ab448"
      },
      "execution_count": 2,
      "outputs": [
        {
          "output_type": "stream",
          "name": "stdout",
          "text": [
            "Parent Class\n",
            "x = 10\n",
            "Child Class\n",
            "y = 20\n"
          ]
        }
      ]
    },
    {
      "cell_type": "code",
      "source": [
        "# Create a base class called \"Vehicle\" with attributes like \"make\", \"model\", and \"year\".\n",
        "# Then, create a derived class called \"Car\" that inherits from \"Vehicle\" and adds an\n",
        "# attribute called \"fuel_type\". Implement appropriate methods in both classes.\n"
      ],
      "metadata": {
        "id": "hRAUnkFYKDqM"
      },
      "execution_count": null,
      "outputs": []
    },
    {
      "cell_type": "code",
      "source": [
        "class Vehicle:\n",
        "    def __init__(self, make, model, year):\n",
        "        self.make = make\n",
        "        self.model = model\n",
        "        self.year = year\n",
        "\n",
        "    def display_info(self):\n",
        "        print(f\"Make: {self.make}\")\n",
        "        print(f\"Model: {self.model}\")\n",
        "        print(f\"Year: {self.year}\")\n",
        "\n",
        "class Car(Vehicle):\n",
        "    def __init__(self, make, model, year, fuel_type):\n",
        "        super().__init__(make, model, year)\n",
        "        self.fuel_type = fuel_type\n",
        "\n",
        "    def display_info(self):\n",
        "        super().display_info()\n",
        "        print(f\"Fuel Type: {self.fuel_type}\")\n"
      ],
      "metadata": {
        "id": "qsTI5wMwKDmv"
      },
      "execution_count": 3,
      "outputs": []
    },
    {
      "cell_type": "code",
      "source": [
        "\n",
        "vehicle = Vehicle(\"Toyota\", \"Camry\", 2022)\n",
        "\n",
        "vehicle.display_info()\n",
        "car = Car(\"Tesla\", \"Model S\", 2023, \"Electric\")\n",
        "car.display_info()\n"
      ],
      "metadata": {
        "colab": {
          "base_uri": "https://localhost:8080/"
        },
        "id": "4FZfYbBHKDj9",
        "outputId": "4eb8f043-a609-4f7e-a98f-eea1b960e935"
      },
      "execution_count": 4,
      "outputs": [
        {
          "output_type": "stream",
          "name": "stdout",
          "text": [
            "Make: Toyota\n",
            "Model: Camry\n",
            "Year: 2022\n",
            "Make: Tesla\n",
            "Model: Model S\n",
            "Year: 2023\n",
            "Fuel Type: Electric\n"
          ]
        }
      ]
    },
    {
      "cell_type": "code",
      "source": [
        "# 7. Create a base class called \"Employee\" with attributes like \"name\" and \"salary.\"\n",
        "# Derive two classes, \"Manager\" and \"Developer,\" from \"Employee.\" Add an additional\n",
        "# attribute called \"department\" for the \"Manager\" class and \"programming_language\"\n",
        "# for the \"Developer\" class."
      ],
      "metadata": {
        "id": "LOAJVlhAKDda"
      },
      "execution_count": null,
      "outputs": []
    },
    {
      "cell_type": "code",
      "source": [
        "class Employee:\n",
        "    def __init__(self, name, salary):\n",
        "        self.name = name\n",
        "        self.salary = salary\n",
        "\n",
        "    def display_info(self):\n",
        "        print(f\"Name: {self.name}\")\n",
        "        print(f\"Salary: {self.salary}\")\n",
        "\n",
        "class Manager(Employee):\n",
        "    def __init__(self, name, salary, department):\n",
        "        super().__init__(name, salary)\n",
        "        self.department = department\n",
        "\n",
        "    def display_info(self):\n",
        "        super().display_info()\n",
        "        print(f\"Department: {self.department}\")\n",
        "\n",
        "class Developer(Employee):\n",
        "    def __init__(self, name, salary, programming_language):\n",
        "        super().__init__(name, salary)\n",
        "        self.programming_language = programming_language\n",
        "\n",
        "    def display_info(self):\n",
        "        super().display_info()\n",
        "        print(f\"Programming Language: {self.programming_language}\")\n"
      ],
      "metadata": {
        "id": "wv6CyHxkKDZ1"
      },
      "execution_count": 10,
      "outputs": []
    },
    {
      "cell_type": "code",
      "source": [
        "employee = Employee(\"Nikhil\", 50000)"
      ],
      "metadata": {
        "id": "GDm1Tly0M51Z"
      },
      "execution_count": 11,
      "outputs": []
    },
    {
      "cell_type": "code",
      "source": [
        "employee.display_info()"
      ],
      "metadata": {
        "colab": {
          "base_uri": "https://localhost:8080/"
        },
        "id": "IGVy1JhjM5ya",
        "outputId": "3c5f9b8b-39bc-46ba-dd00-721f5dea0cb2"
      },
      "execution_count": 12,
      "outputs": [
        {
          "output_type": "stream",
          "name": "stdout",
          "text": [
            "Name: Nikhil\n",
            "Salary: 50000\n"
          ]
        }
      ]
    },
    {
      "cell_type": "code",
      "source": [
        "# Design a base class called \"Shape\" with attributes like \"colour\" and \"border_width.\"\n",
        "# Create derived classes, \"Rectangle\" and \"Circle,\" that inherit from \"Shape\" and add\n",
        "# specific attributes like \"length\" and \"width\" for the \"Rectangle\" class and \"radius\" for\n",
        "# the \"Circle\" class.\n"
      ],
      "metadata": {
        "id": "aMFBzClNM5wH"
      },
      "execution_count": null,
      "outputs": []
    },
    {
      "cell_type": "code",
      "source": [
        "class Shape:\n",
        "    def __init__(self, colour, border_width):\n",
        "        self.colour = colour\n",
        "        self.border_width = border_width\n",
        "\n",
        "    def display_info(self):\n",
        "        print(f\"Colour: {self.colour}\")\n",
        "        print(f\"Border Width: {self.border_width}\")\n",
        "\n",
        "class Rectangle(Shape):\n",
        "    def __init__(self, colour, border_width, length, width):\n",
        "        super().__init__(colour, border_width)\n",
        "        self.length = length\n",
        "        self.width = width\n",
        "\n",
        "    def display_info(self):\n",
        "        super().display_info()\n",
        "        print(f\"Length: {self.length}\")\n",
        "        print(f\"Width: {self.width}\")\n",
        "\n",
        "class Circle(Shape):\n",
        "    def __init__(self, colour, border_width, radius):\n",
        "        super().__init__(colour, border_width)\n",
        "        self.radius = radius\n",
        "\n",
        "    def display_info(self):\n",
        "        super().display_info()\n",
        "        print(f\"Radius: {self.radius}\")\n"
      ],
      "metadata": {
        "id": "GjGQxf9gM5th"
      },
      "execution_count": 13,
      "outputs": []
    },
    {
      "cell_type": "code",
      "source": [
        "shape = Shape(\"Red\", 2)"
      ],
      "metadata": {
        "id": "3V5pGlohM5pN"
      },
      "execution_count": 14,
      "outputs": []
    },
    {
      "cell_type": "code",
      "source": [
        "shape.display_info()"
      ],
      "metadata": {
        "colab": {
          "base_uri": "https://localhost:8080/"
        },
        "id": "3XxJJiuMM5kM",
        "outputId": "8f9b6b31-8508-456f-cbdf-afd660abddab"
      },
      "execution_count": 15,
      "outputs": [
        {
          "output_type": "stream",
          "name": "stdout",
          "text": [
            "Colour: Red\n",
            "Border Width: 2\n"
          ]
        }
      ]
    },
    {
      "cell_type": "code",
      "source": [
        "rectangle = Rectangle(\"Blue\", 1, 4, 3)"
      ],
      "metadata": {
        "id": "XRh7edfEM5f9"
      },
      "execution_count": 16,
      "outputs": []
    },
    {
      "cell_type": "code",
      "source": [
        "rectangle.display_info()"
      ],
      "metadata": {
        "colab": {
          "base_uri": "https://localhost:8080/"
        },
        "id": "jvrzz8qZN73r",
        "outputId": "af8e54e2-7376-4d38-e080-7909d4a2f481"
      },
      "execution_count": 17,
      "outputs": [
        {
          "output_type": "stream",
          "name": "stdout",
          "text": [
            "Colour: Blue\n",
            "Border Width: 1\n",
            "Length: 4\n",
            "Width: 3\n"
          ]
        }
      ]
    },
    {
      "cell_type": "code",
      "source": [
        "circle = Circle(\"Green\", 1.5, 5)"
      ],
      "metadata": {
        "id": "4n9Jrqs-N70Q"
      },
      "execution_count": 18,
      "outputs": []
    },
    {
      "cell_type": "code",
      "source": [
        "\n",
        "circle.display_info()"
      ],
      "metadata": {
        "colab": {
          "base_uri": "https://localhost:8080/"
        },
        "id": "2s43a3qcN7xf",
        "outputId": "e60b1518-1c9b-4bdc-fa9c-8c60db457109"
      },
      "execution_count": 19,
      "outputs": [
        {
          "output_type": "stream",
          "name": "stdout",
          "text": [
            "Colour: Green\n",
            "Border Width: 1.5\n",
            "Radius: 5\n"
          ]
        }
      ]
    },
    {
      "cell_type": "code",
      "source": [
        "# 9. Create a base class called \"Device\" with attributes like \"brand\" and \"model.\" Derive\n",
        "# two classes, \"Phone\" and \"Tablet,\" from \"Device.\" Add specific attributes like\n",
        "# \"screen_size\" for the \"Phone\" class and \"battery_capacity\" for the \"Tablet\" class.\n"
      ],
      "metadata": {
        "id": "8zD9rkFlN7vD"
      },
      "execution_count": null,
      "outputs": []
    },
    {
      "cell_type": "code",
      "source": [
        "class Device:\n",
        "    def __init__(self, brand, model):\n",
        "        self.brand = brand\n",
        "        self.model = model\n",
        "\n",
        "    def display_info(self):\n",
        "        print(f\"Brand: {self.brand}\")\n",
        "        print(f\"Model: {self.model}\")\n",
        "\n",
        "class Phone(Device):\n",
        "    def __init__(self, brand, model, screen_size):\n",
        "        super().__init__(brand, model)\n",
        "        self.screen_size = screen_size\n",
        "\n",
        "    def display_info(self):\n",
        "        super().display_info()\n",
        "        print(f\"Screen Size: {self.screen_size}\")\n",
        "\n",
        "class Tablet(Device):\n",
        "    def __init__(self, brand, model, battery_capacity):\n",
        "        super().__init__(brand, model)\n",
        "        self.battery_capacity = battery_capacity\n",
        "\n",
        "    def display_info(self):\n",
        "        super().display_info()\n",
        "        print(f\"Battery Capacity: {self.battery_capacity} mAh\")\n"
      ],
      "metadata": {
        "id": "MboF3uj-N7s1"
      },
      "execution_count": 20,
      "outputs": []
    },
    {
      "cell_type": "code",
      "source": [
        "\n",
        "device = Device(\"Samsung\", \"Galaxy S20\")\n",
        "\n",
        "\n",
        "device.display_info()\n",
        "\n",
        "phone = Phone(\"Apple\", \"iPhone 12\", \"6.1 inch\")\n",
        "\n",
        "phone.display_info()\n",
        "\n",
        "tablet = Tablet(\"Amazon\", \"Kindle Fire\", 5000)\n",
        "\n",
        "\n",
        "tablet.display_info\n"
      ],
      "metadata": {
        "colab": {
          "base_uri": "https://localhost:8080/"
        },
        "id": "jttCZbVIN7qN",
        "outputId": "2eee2e6a-2eea-4c62-ece0-86def64b6d08"
      },
      "execution_count": 21,
      "outputs": [
        {
          "output_type": "stream",
          "name": "stdout",
          "text": [
            "Brand: Samsung\n",
            "Model: Galaxy S20\n",
            "Brand: Apple\n",
            "Model: iPhone 12\n",
            "Screen Size: 6.1 inch\n"
          ]
        },
        {
          "output_type": "execute_result",
          "data": {
            "text/plain": [
              "<bound method Tablet.display_info of <__main__.Tablet object at 0x7f55e1257130>>"
            ]
          },
          "metadata": {},
          "execution_count": 21
        }
      ]
    },
    {
      "cell_type": "code",
      "source": [
        "# 10. Create a base class called \"BankAccount\" with attributes like \"account_number\" and\n",
        "# \"balance.\" Derive two classes, \"SavingsAccount\" and \"CheckingAccount,\" from\n",
        "# \"BankAccount.\" Add specific methods like \"calculate_interest\" for the\n",
        "# \"SavingsAccount\" class and \"deduct_fees\" for the \"CheckingAccount\" class.\n"
      ],
      "metadata": {
        "id": "fxkr1A5FN7in"
      },
      "execution_count": null,
      "outputs": []
    },
    {
      "cell_type": "code",
      "source": [
        "class BankAccount:\n",
        "    def __init__(self, account_number, balance):\n",
        "        self.account_number = account_number\n",
        "        self.balance = balance\n",
        "\n",
        "    def display_info(self):\n",
        "        print(f\"Account Number: {self.account_number}\")\n",
        "        print(f\"Balance: {self.balance}\")\n",
        "\n",
        "class SavingsAccount(BankAccount):\n",
        "    def calculate_interest(self, interest_rate):\n",
        "        interest = self.balance * (interest_rate / 100)\n",
        "        self.balance += interest\n",
        "\n",
        "    def display_info(self):\n",
        "        super().display_info()\n",
        "        print(\"Account Type: Savings Account\")\n",
        "\n",
        "class CheckingAccount(BankAccount):\n",
        "    def deduct_fees(self, fee_amount):\n",
        "        self.balance -= fee_amount\n",
        "\n",
        "    def display_info(self):\n",
        "        super().display_info()\n",
        "        print(\"Account Type: Checking Account\")\n"
      ],
      "metadata": {
        "id": "-D517ZKrO6rk"
      },
      "execution_count": 22,
      "outputs": []
    },
    {
      "cell_type": "code",
      "source": [
        "# Create a bank account object\n",
        "bank_account = BankAccount(\"1234567890\", 1000)\n",
        "\n",
        "# Display bank account information\n",
        "bank_account.display_info()\n",
        "# Output:\n",
        "# Account Number: 1234567890\n",
        "# Balance: $1000\n",
        "\n",
        "\n",
        "savings_account = SavingsAccount(\"9876543210\", 2000)\n",
        "\n",
        "\n",
        "savings_account.calculate_interest(5)\n",
        "\n",
        "\n",
        "savings_account.display_info()\n",
        "\n",
        "checking_account = CheckingAccount(\"5678901234\", 1500)\n",
        "\n",
        "\n",
        "checking_account.deduct_fees(50)\n",
        "\n",
        "checking_account.display_info()\n",
        "\n"
      ],
      "metadata": {
        "colab": {
          "base_uri": "https://localhost:8080/"
        },
        "id": "8a4K98dZO6nn",
        "outputId": "b2a4e3af-15b6-4ae9-afca-2e4a9bc243c9"
      },
      "execution_count": 23,
      "outputs": [
        {
          "output_type": "stream",
          "name": "stdout",
          "text": [
            "Account Number: 1234567890\n",
            "Balance: $1000\n",
            "Account Number: 9876543210\n",
            "Balance: $2100.0\n",
            "Account Type: Savings Account\n",
            "Account Number: 5678901234\n",
            "Balance: $1450\n",
            "Account Type: Checking Account\n"
          ]
        }
      ]
    },
    {
      "cell_type": "code",
      "source": [],
      "metadata": {
        "id": "BD95UCMnPTOq"
      },
      "execution_count": null,
      "outputs": []
    }
  ]
}